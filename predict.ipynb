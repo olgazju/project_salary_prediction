{
 "cells": [
  {
   "cell_type": "markdown",
   "metadata": {},
   "source": [
    "### Get random row for prediction from test_copy.csv"
   ]
  },
  {
   "cell_type": "code",
   "execution_count": 37,
   "metadata": {},
   "outputs": [
    {
     "name": "stdout",
     "output_type": "stream",
     "text": [
      "Salary 175000\n",
      "{\"work_year\":2023,\"job_category\":\"Data Analysis\",\"employee_residence\":\"United States\",\"experience_level\":\"Senior\",\"work_setting\":\"Remote\",\"company_location\":\"United States\",\"company_size\":\"M\"}\n"
     ]
    }
   ],
   "source": [
    "import pandas as pd\n",
    "import random\n",
    "\n",
    "df = pd.read_csv('models_binary/test_copy.csv')\n",
    "selected_columns = [\"work_year\", \"job_category\", \"employee_residence\", \"experience_level\", \"work_setting\", \"company_location\", \"company_size\", \"salary_in_usd\"]\n",
    "random_row_index = random.randint(0, len(df) - 1)\n",
    "\n",
    "random_row = df.loc[random_row_index, selected_columns]\n",
    "\n",
    "json_data = random_row[[\"work_year\", \"job_category\", \"employee_residence\", \"experience_level\", \"work_setting\", \"company_location\", \"company_size\"]].to_json()\n",
    "\n",
    "print(\"Salary\", random_row[\"salary_in_usd\"])\n",
    "print(json_data)\n"
   ]
  },
  {
   "cell_type": "markdown",
   "metadata": {},
   "source": [
    "### Predict\n",
    "\n",
    "Don't forget to run:\n",
    "```bash\n",
    "uvicorn predict:app --reload\n",
    "```"
   ]
  },
  {
   "cell_type": "code",
   "execution_count": 44,
   "metadata": {},
   "outputs": [
    {
     "data": {
      "text/plain": [
       "{'prediction': 123555.81598202942}"
      ]
     },
     "execution_count": 44,
     "metadata": {},
     "output_type": "execute_result"
    }
   ],
   "source": [
    "import requests\n",
    "url = \"http://127.0.0.1:8000/predict\"\n",
    "client = json_data\n",
    "requests.post(url, json=client).json()"
   ]
  }
 ],
 "metadata": {
  "kernelspec": {
   "display_name": "salary-prediction",
   "language": "python",
   "name": "python3"
  },
  "language_info": {
   "codemirror_mode": {
    "name": "ipython",
    "version": 3
   },
   "file_extension": ".py",
   "mimetype": "text/x-python",
   "name": "python",
   "nbconvert_exporter": "python",
   "pygments_lexer": "ipython3",
   "version": "3.11.4"
  }
 },
 "nbformat": 4,
 "nbformat_minor": 2
}
