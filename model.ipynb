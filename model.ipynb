{
 "cells": [
  {
   "cell_type": "code",
   "execution_count": null,
   "metadata": {},
   "outputs": [],
   "source": [
    "\n",
    "\n",
    "X_train = train.drop(['salary_in_usd'], axis=1)  # drop the target variable\n",
    "y_train = np.log1p(train['salary_in_usd'])\n",
    "X_val = val.drop(['salary_in_usd'], axis=1)  # drop the target variable\n",
    "y_val = np.log1p(val['salary_in_usd'])\n",
    "\n",
    "models={\n",
    "    'LinearRegression': LinearRegression(),\n",
    "    'RandomForestRegressor': RandomForestRegressor(),\n",
    "    'CatBoostRegressor': CatBoostRegressor(verbose=0)  # set verbose to 0 for silent mode\n",
    "}\n",
    "\n",
    "for name, model in models.items():\n",
    "    model.fit(X_train, y_train)\n",
    "    print(name)\n",
    "    print_metrics(model, X_train, y_train, X_val, y_val)\n",
    "    print(\"\")\n"
   ]
  }
 ],
 "metadata": {
  "language_info": {
   "name": "python"
  }
 },
 "nbformat": 4,
 "nbformat_minor": 2
}
